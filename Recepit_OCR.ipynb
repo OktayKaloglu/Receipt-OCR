{
  "nbformat": 4,
  "nbformat_minor": 0,
  "metadata": {
    "colab": {
      "name": "Recepit-OCR.ipynb",
      "provenance": [],
      "collapsed_sections": []
    },
    "kernelspec": {
      "name": "python3",
      "display_name": "Python 3"
    },
    "language_info": {
      "name": "python"
    },
    "accelerator": "GPU",
    "gpuClass": "standard"
  },
  "cells": [
    {
      "cell_type": "markdown",
      "source": [
        "## Information extraction\n",
        "Information extraction is the task of automatically extracting structured information from unstructured and/or semi-structured machine-readable documents and other electronically represented sources. In most of the cases this activity concerns processing human language texts by means of natural language processing."
      ],
      "metadata": {
        "id": "E2qX37ehV3WV"
      }
    },
    {
      "cell_type": "markdown",
      "source": [
        "# New Section"
      ],
      "metadata": {
        "id": "uYjcp3Eu2LFI"
      }
    },
    {
      "cell_type": "markdown",
      "source": [
        "## SROIE Dataset\n",
        "For invoice and receipt dataset we are using ICDAR 2019 Robust Reading Challange on Scanned Receipts\n",
        "\n",
        "```\n",
        "Reference:\n",
        "[1]. D. Karatzas, F. Shafait, S. Uchida, M. Iwamura, L. Gomez, S. Robles, J. Mas, D. Fernandez, J. Almazan, L.P. de las Heras: ICDAR 2013 Robust Reading Competition. ICDAR, 2013.\n",
        "\n",
        "[2]. D. Karatzas, L. Gomez-Bigorda, A. Nicolaou, D. Ghosh , A. Bagdanov, M. Iwamura, J. Matas, L. Neumann, VR. Chandrasekhar, S. Lu, F. Shafait, S. Uchida, E. Valveny: ICDAR 2015 robust reading competition. ICDAR, 2015.\n",
        "\n",
        "[3]. Everingham, M. and Eslami, S. M. A. and Van Gool, L. and Williams, C. K. I. and Winn, J. and Zisserman, A.: The Pascal Visual Object Classes Challenge: A Retrospective. IJCV, 2015.\n",
        "\n",
        "[4]. D. Karatzas, L. Rushinol, The Robust Reading Competition Annotation and Evaluation Platform.\n",
        "\n",
        "```"
      ],
      "metadata": {
        "id": "L_2FLGEdV8c-"
      }
    },
    {
      "cell_type": "code",
      "source": [
        "!git clone https://github.com/zzzDavid/ICDAR-2019-SROIE.git"
      ],
      "metadata": {
        "colab": {
          "base_uri": "https://localhost:8080/"
        },
        "id": "DMIkRB0JV-TY",
        "outputId": "55bfbeed-104c-4f9d-c824-5812f9b8f8d6"
      },
      "execution_count": null,
      "outputs": [
        {
          "output_type": "stream",
          "name": "stdout",
          "text": [
            "Cloning into 'ICDAR-2019-SROIE'...\n",
            "remote: Enumerating objects: 2386, done.\u001b[K\n",
            "remote: Counting objects: 100% (20/20), done.\u001b[K\n",
            "remote: Compressing objects: 100% (2/2), done.\u001b[K\n",
            "remote: Total 2386 (delta 18), reused 18 (delta 18), pack-reused 2366\u001b[K\n",
            "Receiving objects: 100% (2386/2386), 278.64 MiB | 29.88 MiB/s, done.\n",
            "Resolving deltas: 100% (239/239), done.\n",
            "Checking out files: 100% (1980/1980), done.\n"
          ]
        }
      ]
    },
    {
      "cell_type": "code",
      "source": [
        "!mkdir boxes_and_transcripts images entities"
      ],
      "metadata": {
        "id": "hxieq84nWJZU"
      },
      "execution_count": null,
      "outputs": []
    },
    {
      "cell_type": "markdown",
      "source": [
        "## Preprocessing the Dataset\n",
        "We will preprocess Dataset as per PICK-pytorch\n",
        "<br>https://github.com/wenwenyu/PICK-pytorch/blob/master/data/README.md"
      ],
      "metadata": {
        "id": "xyKi-Am6WP3-"
      }
    },
    {
      "cell_type": "code",
      "source": [
        "## Script for preprocessing dataset\n",
        "import os\n",
        "import pandas\n",
        "import json\n",
        "import csv\n",
        "import shutil\n",
        "\n",
        "## Input dataset\n",
        "data_path = \"ICDAR-2019-SROIE/data/\"\n",
        "box_path = data_path + \"box/\"\n",
        "img_path = data_path + \"img/\"\n",
        "key_path = data_path + \"key/\"\n",
        "\n",
        "## Output dataset\n",
        "out_boxes_and_transcripts = \"/content/boxes_and_transcripts/\"\n",
        "out_images = \"/content/images/\"\n",
        "out_entities  = \"/content/entities/\"\n",
        "\n",
        "train_samples_list =  []\n",
        "for file in os.listdir(data_path + \"box/\"):\n",
        "  \n",
        "  ## Reading csv\n",
        "  with open(box_path +file, \"r\") as fp:\n",
        "    reader = csv.reader(fp, delimiter=\",\")\n",
        "    ## arranging dataframe index ,coordinates x1_1,y1_1,x2_1,y2_1,x3_1,y3_1,x4_1,y4_1, transcript\n",
        "    rows = [[1] + x[:8] + [','.join(x[8:]).strip(',')] for x in reader] \n",
        "    df = pandas.DataFrame(rows)\n",
        "  \n",
        "  ## including ner label dataframe index ,coordinates x1_1,y1_1,x2_1,y2_1,x3_1,y3_1,x4_1,y4_1, transcript , ner tag\n",
        "  df[10] = 'other'  \n",
        "  \n",
        "  ##saving file into new dataset folder\n",
        "  jpg = file.replace(\".csv\",\".jpg\")\n",
        "  entities = json.load(open(key_path+file.replace(\".csv\",\".json\")))\n",
        "  for key,value in sorted(entities.items()):\n",
        "    idx = df[df[9].str.contains('|'.join(map(str.strip, value.split(','))))].index\n",
        "    df.loc[idx, 10] = key\n",
        "\n",
        "  shutil.copy(img_path +jpg, out_images)\n",
        "  with open(out_entities + file.replace(\".csv\",\".txt\"),\"w\") as j:  \n",
        "    print(json.dumps(entities), file=j)\n",
        "  \n",
        "  df.to_csv(out_boxes_and_transcripts+file.replace(\".csv\",\".tsv\"),index=False,header=False, quotechar='',escapechar='\\\\',quoting=csv.QUOTE_NONE, )\n",
        "  train_samples_list.append(['receipt',file.replace('.csv','')])\n",
        "train_samples_list = pandas.DataFrame(train_samples_list)\n",
        "train_samples_list.to_csv(\"train_samples_list.csv\")"
      ],
      "metadata": {
        "colab": {
          "base_uri": "https://localhost:8080/"
        },
        "id": "JcZfuQheWReY",
        "outputId": "34ad3399-ead3-43fc-bf93-793fe68656f4"
      },
      "execution_count": null,
      "outputs": [
        {
          "output_type": "stream",
          "name": "stderr",
          "text": [
            "/usr/local/lib/python3.7/dist-packages/ipykernel_launcher.py:36: UserWarning: This pattern has match groups. To actually get the groups, use str.extract.\n"
          ]
        }
      ]
    },
    {
      "cell_type": "code",
      "source": [
        "from sklearn.model_selection import train_test_split\n",
        "train_test = pandas.read_csv(\"train_samples_list.csv\",dtype=str)\n",
        "train, test= train_test_split(train_test,test_size=0.2,random_state = 42)"
      ],
      "metadata": {
        "id": "zqHCxwPMWZGY"
      },
      "execution_count": null,
      "outputs": []
    },
    {
      "cell_type": "code",
      "source": [
        "!git clone https://github.com/wenwenyu/PICK-pytorch.git"
      ],
      "metadata": {
        "colab": {
          "base_uri": "https://localhost:8080/"
        },
        "id": "MuUXhZCKWgTt",
        "outputId": "f37e84f3-e967-4b0f-ffeb-c4c4962be926"
      },
      "execution_count": null,
      "outputs": [
        {
          "output_type": "stream",
          "name": "stdout",
          "text": [
            "Cloning into 'PICK-pytorch'...\n",
            "remote: Enumerating objects: 293, done.\u001b[K\n",
            "remote: Counting objects: 100% (37/37), done.\u001b[K\n",
            "remote: Compressing objects: 100% (18/18), done.\u001b[K\n",
            "remote: Total 293 (delta 19), reused 33 (delta 19), pack-reused 256\u001b[K\n",
            "Receiving objects: 100% (293/293), 9.99 MiB | 13.79 MiB/s, done.\n",
            "Resolving deltas: 100% (134/134), done.\n"
          ]
        }
      ]
    },
    {
      "cell_type": "code",
      "source": [
        "for index, row in train.iterrows():\n",
        "  shutil.copy(out_boxes_and_transcripts+str(row[2])+\".tsv\",'/content/PICK-pytorch/data/data_examples_root/boxes_and_transcripts/')\n",
        "  shutil.copy(out_images+str(row[2])+\".jpg\",'/content/PICK-pytorch/data/data_examples_root/images/')\n",
        "  shutil.copy(out_entities +str(row[2])+\".txt\", '/content/PICK-pytorch/data/data_examples_root/entities/')\n",
        "\n",
        "train.drop(['Unnamed: 0'], axis = 1,inplace = True)\n",
        "train.reset_index(inplace= True)\n",
        "train.drop(['index'], axis = 1,inplace = True)\n",
        "train.to_csv(\"/content/PICK-pytorch/data/data_examples_root/train_samples_list.csv\",header = False)"
      ],
      "metadata": {
        "id": "9Qgzq6sJWnYp"
      },
      "execution_count": null,
      "outputs": []
    },
    {
      "cell_type": "code",
      "source": [
        "!mkdir '/content/PICK-pytorch/data/test_data_example/entities/'"
      ],
      "metadata": {
        "id": "_z8di_WDWqni"
      },
      "execution_count": null,
      "outputs": []
    },
    {
      "cell_type": "code",
      "source": [
        "for index, row in test.iterrows():\n",
        "  shutil.copy(out_boxes_and_transcripts+str(row[2])+\".tsv\",'/content/PICK-pytorch/data/test_data_example/boxes_and_transcripts/')\n",
        "  shutil.copy(out_images+str(row[2])+\".jpg\",'/content/PICK-pytorch/data/test_data_example/images/')\n",
        "  shutil.copy(out_entities +str(row[2])+\".txt\", '/content/PICK-pytorch/data/test_data_example/entities/')\n",
        "\n",
        "test.drop(['Unnamed: 0'], axis = 1,inplace = True)\n",
        "test.reset_index(inplace= True)\n",
        "test.drop(['index'], axis = 1,inplace = True)\n",
        "test.to_csv(\"/content/PICK-pytorch/data/test_data_example/test_samples_list.csv\",header = False)"
      ],
      "metadata": {
        "id": "aE1MsgGVWtxy"
      },
      "execution_count": null,
      "outputs": []
    },
    {
      "cell_type": "code",
      "source": [
        "## Removing data once it is copied into PICK-pytorch data folder\n",
        "!rm /content/boxes_and_transcripts/*.tsv\n",
        "!rm /content/images/*.jpg\n",
        "!rm /content/entities/*.txt"
      ],
      "metadata": {
        "id": "RDMZykTIeGf_"
      },
      "execution_count": null,
      "outputs": []
    },
    {
      "cell_type": "code",
      "source": [
        "%cd PICK-pytorch/"
      ],
      "metadata": {
        "colab": {
          "base_uri": "https://localhost:8080/"
        },
        "id": "aRh51lBAWwTj",
        "outputId": "f6e5222b-985e-4d51-de9c-0c9ed8a17d09"
      },
      "execution_count": null,
      "outputs": [
        {
          "output_type": "stream",
          "name": "stdout",
          "text": [
            "/content/PICK-pytorch\n"
          ]
        }
      ]
    },
    {
      "cell_type": "code",
      "source": [
        "%%writefile utils/entities_list.py\n",
        "Entities_list = [\n",
        "    \"company\",\n",
        "    \"address\",\n",
        "    \"date\",\n",
        "    \"total\"\n",
        "]"
      ],
      "metadata": {
        "colab": {
          "base_uri": "https://localhost:8080/"
        },
        "id": "icF_tXIwWy6n",
        "outputId": "1181dbd1-2ce0-4f52-f787-de7789216ac0"
      },
      "execution_count": null,
      "outputs": [
        {
          "output_type": "stream",
          "name": "stdout",
          "text": [
            "Overwriting utils/entities_list.py\n"
          ]
        }
      ]
    },
    {
      "cell_type": "code",
      "source": [
        "## Installing requirements for running PICK-pytorch\n",
        "!pip install -r requirements.txt\n",
        "!pip install torch torchvision torchaudio --extra-index-url https://download.pytorch.org/whl/cu113\n"
      ],
      "metadata": {
        "id": "auAypJFWW3YK"
      },
      "execution_count": null,
      "outputs": []
    },
    {
      "cell_type": "code",
      "source": [
        "%pwd\n",
        "%cd /content/PICK-pytorch\n",
        "%pwd"
      ],
      "metadata": {
        "colab": {
          "base_uri": "https://localhost:8080/",
          "height": 53
        },
        "id": "lZMvQlt0bVYY",
        "outputId": "68f56843-5dab-4e8a-aab2-4648feaeb4a2"
      },
      "execution_count": null,
      "outputs": [
        {
          "output_type": "stream",
          "name": "stdout",
          "text": [
            "/content/PICK-pytorch\n"
          ]
        },
        {
          "output_type": "execute_result",
          "data": {
            "text/plain": [
              "'/content/PICK-pytorch'"
            ],
            "application/vnd.google.colaboratory.intrinsic+json": {
              "type": "string"
            }
          },
          "metadata": {},
          "execution_count": 14
        }
      ]
    },
    {
      "cell_type": "code",
      "source": [
        "#!/bin/bash\n",
        "!python3 -m torch.distributed.launch --nnode=1 --node_rank=0 --nproc_per_node=1 \\\n",
        "   train.py -c config.json -d 0 --local_world_size 1 --bs=3 --resume /content/PICK-pytorch/saved/models/PICK_Default/test_0619_210929/model_best.pth\n",
        "\n",
        "   "
      ],
      "metadata": {
        "colab": {
          "base_uri": "https://localhost:8080/"
        },
        "id": "ExdFMMs3W8fx",
        "outputId": "cdfd5c6b-6763-4d6f-98f1-6ebc955bc6b9"
      },
      "execution_count": null,
      "outputs": [
        {
          "output_type": "stream",
          "name": "stdout",
          "text": [
            "[2022-06-19 22:02:18,043 - train - INFO] - Distributed GPU training model start...\n",
            "[2022-06-19 22:02:18,043 - train - INFO] - [Process 7169] Initializing process group with: {'MASTER_ADDR': '127.0.0.1', 'MASTER_PORT': '29500', 'RANK': '0', 'WORLD_SIZE': '1'}\n",
            "[2022-06-19 22:02:18,044 - train - INFO] - [Process 7169] world_size = 1, rank = 0, backend=nccl\n",
            "[2022-06-19 22:02:18,050 - train - INFO] - Dataloader instances created. Train datasets: 500 samples Validation datasets: 500 samples.\n",
            "[2022-06-19 22:02:18,843 - train - INFO] - Model created, trainable parameters: 68567386.\n",
            "[2022-06-19 22:02:18,844 - train - INFO] - Optimizer and lr_scheduler created.\n",
            "[2022-06-19 22:02:18,844 - train - INFO] - Max_epochs: 100 Log_per_step: 10 Validation_per_step: 50.\n",
            "[2022-06-19 22:02:18,844 - train - INFO] - Training start...\n",
            "[2022-06-19 22:02:18,846 - trainer - INFO] - [Process 7169] world_size = 1, rank = 0, n_gpu/process = 1, device_ids = [0]\n",
            "[2022-06-19 22:02:21,558 - trainer - INFO] - Loading checkpoint: /content/PICK-pytorch/saved/models/PICK_Default/test_0619_210929/model_best.pth ...\n",
            "[2022-06-19 22:02:22,248 - trainer - INFO] - Checkpoint loaded. Resume training from epoch 22\n",
            "/usr/local/lib/python3.7/dist-packages/torch/distributed/distributed_c10d.py:102: UserWarning: torch.distributed.reduce_op is deprecated, please use torch.distributed.ReduceOp instead\n",
            "  warnings.warn(\"torch.distributed.reduce_op is deprecated, please use \"\n",
            "[2022-06-19 22:02:49,990 - trainer - INFO] - Train Epoch:[22/100] Step:[10/166] Total Loss: 216.588959 GL_Loss: 0.412593 CRF_Loss: 216.176361\n",
            "[2022-06-19 22:03:12,973 - trainer - INFO] - Train Epoch:[22/100] Step:[20/166] Total Loss: 44.964951 GL_Loss: 0.429307 CRF_Loss: 44.535645\n",
            "[2022-06-19 22:03:36,856 - trainer - INFO] - Train Epoch:[22/100] Step:[30/166] Total Loss: 235.332169 GL_Loss: 0.517305 CRF_Loss: 234.814865\n",
            "[2022-06-19 22:03:59,993 - trainer - INFO] - Train Epoch:[22/100] Step:[40/166] Total Loss: 74.906128 GL_Loss: 0.477659 CRF_Loss: 74.428467\n",
            "[2022-06-19 22:04:23,410 - trainer - INFO] - Train Epoch:[22/100] Step:[50/166] Total Loss: 24.971798 GL_Loss: 0.428828 CRF_Loss: 24.542969\n",
            "Corrupt JPEG data: bad Huffman code\n",
            "[2022-06-19 22:06:12,267 - trainer - INFO] - [Step Validation] Epoch:[22/100] Step:[50/166]  \n",
            "+---------+----------+----------+----------+----------+\n",
            "| name    |      mEP |      mER |      mEF |      mEA |\n",
            "+=========+==========+==========+==========+==========+\n",
            "| address | 0.603242 | 0.433418 | 0.50442  | 0.433418 |\n",
            "+---------+----------+----------+----------+----------+\n",
            "| date    | 0.88141  | 0.916667 | 0.898693 | 0.916667 |\n",
            "+---------+----------+----------+----------+----------+\n",
            "| company | 0.596154 | 0.606145 | 0.601108 | 0.606145 |\n",
            "+---------+----------+----------+----------+----------+\n",
            "| total   | 0.634122 | 0.518131 | 0.570288 | 0.518131 |\n",
            "+---------+----------+----------+----------+----------+\n",
            "| overall | 0.662379 | 0.542885 | 0.596708 | 0.542885 |\n",
            "+---------+----------+----------+----------+----------+\n",
            "[2022-06-19 22:06:15,992 - trainer - INFO] - Saving current best: model_best.pth ...\n",
            "[2022-06-19 22:06:39,914 - trainer - INFO] - Train Epoch:[22/100] Step:[60/166] Total Loss: 44.014771 GL_Loss: 0.474403 CRF_Loss: 43.540367\n",
            "Corrupt JPEG data: bad Huffman code\n",
            "[2022-06-19 22:07:04,399 - trainer - INFO] - Train Epoch:[22/100] Step:[70/166] Total Loss: 57.332218 GL_Loss: 0.522893 CRF_Loss: 56.809326\n",
            "[2022-06-19 22:07:28,315 - trainer - INFO] - Train Epoch:[22/100] Step:[80/166] Total Loss: 112.946388 GL_Loss: 0.383643 CRF_Loss: 112.562744\n",
            "[2022-06-19 22:07:51,726 - trainer - INFO] - Train Epoch:[22/100] Step:[90/166] Total Loss: 71.734787 GL_Loss: 0.587401 CRF_Loss: 71.147385\n",
            "[2022-06-19 22:08:14,656 - trainer - INFO] - Train Epoch:[22/100] Step:[100/166] Total Loss: 24.830288 GL_Loss: 0.449997 CRF_Loss: 24.380291\n",
            "Corrupt JPEG data: bad Huffman code\n",
            "[2022-06-19 22:10:00,763 - trainer - INFO] - [Step Validation] Epoch:[22/100] Step:[100/166]  \n",
            "+---------+----------+----------+----------+----------+\n",
            "| name    |      mEP |      mER |      mEF |      mEA |\n",
            "+=========+==========+==========+==========+==========+\n",
            "| address | 0.674541 | 0.39038  | 0.494548 | 0.39038  |\n",
            "+---------+----------+----------+----------+----------+\n",
            "| date    | 0.888889 | 0.933333 | 0.910569 | 0.933333 |\n",
            "+---------+----------+----------+----------+----------+\n",
            "| company | 0.691489 | 0.726257 | 0.708447 | 0.726257 |\n",
            "+---------+----------+----------+----------+----------+\n",
            "| total   | 0.570502 | 0.567284 | 0.568889 | 0.567284 |\n",
            "+---------+----------+----------+----------+----------+\n",
            "| overall | 0.678392 | 0.549832 | 0.607384 | 0.549832 |\n",
            "+---------+----------+----------+----------+----------+\n",
            "[2022-06-19 22:10:04,526 - trainer - INFO] - Saving current best: model_best.pth ...\n",
            "[2022-06-19 22:10:28,908 - trainer - INFO] - Train Epoch:[22/100] Step:[110/166] Total Loss: 117.478241 GL_Loss: 0.442598 CRF_Loss: 117.035645\n",
            "[2022-06-19 22:10:52,308 - trainer - INFO] - Train Epoch:[22/100] Step:[120/166] Total Loss: 88.349785 GL_Loss: 0.510996 CRF_Loss: 87.838791\n",
            "[2022-06-19 22:11:16,165 - trainer - INFO] - Train Epoch:[22/100] Step:[130/166] Total Loss: 48.941166 GL_Loss: 0.549401 CRF_Loss: 48.391766\n",
            "[2022-06-19 22:11:38,887 - trainer - INFO] - Train Epoch:[22/100] Step:[140/166] Total Loss: 96.991196 GL_Loss: 0.430404 CRF_Loss: 96.560791\n",
            "[2022-06-19 22:12:03,086 - trainer - INFO] - Train Epoch:[22/100] Step:[150/166] Total Loss: 156.162384 GL_Loss: 0.387140 CRF_Loss: 155.775238\n",
            "Corrupt JPEG data: bad Huffman code\n",
            "[2022-06-19 22:13:50,517 - trainer - INFO] - [Step Validation] Epoch:[22/100] Step:[150/166]  \n",
            "+---------+----------+----------+----------+----------+\n",
            "| name    |      mEP |      mER |      mEF |      mEA |\n",
            "+=========+==========+==========+==========+==========+\n",
            "| address | 0.59924  | 0.398987 | 0.479027 | 0.398987 |\n",
            "+---------+----------+----------+----------+----------+\n",
            "| date    | 0.898714 | 0.931667 | 0.914894 | 0.931667 |\n",
            "+---------+----------+----------+----------+----------+\n",
            "| company | 0.623077 | 0.678771 | 0.649733 | 0.678771 |\n",
            "+---------+----------+----------+----------+----------+\n",
            "| total   | 0.700422 | 0.267526 | 0.387172 | 0.267526 |\n",
            "+---------+----------+----------+----------+----------+\n",
            "| overall | 0.686184 | 0.46047  | 0.551111 | 0.46047  |\n",
            "+---------+----------+----------+----------+----------+\n",
            "[2022-06-19 22:14:13,716 - trainer - INFO] - Train Epoch:[22/100] Step:[160/166] Total Loss: 16.024782 GL_Loss: 0.569621 CRF_Loss: 15.455160\n",
            "Corrupt JPEG data: bad Huffman code\n",
            "[2022-06-19 22:16:14,712 - trainer - INFO] - [Epoch Validation] Epoch:[22/100] Total Loss: 68.527482 GL_Loss: 0.005536 CRF_Loss: 67.973898 \n",
            "+---------+----------+----------+----------+----------+\n",
            "| name    |      mEP |      mER |      mEF |      mEA |\n",
            "+=========+==========+==========+==========+==========+\n",
            "| address | 0.566726 | 0.322532 | 0.4111   | 0.322532 |\n",
            "+---------+----------+----------+----------+----------+\n",
            "| date    | 0.86072  | 0.916667 | 0.887813 | 0.916667 |\n",
            "+---------+----------+----------+----------+----------+\n",
            "| company | 0.613232 | 0.673184 | 0.641811 | 0.673184 |\n",
            "+---------+----------+----------+----------+----------+\n",
            "| total   | 0.639723 | 0.446414 | 0.525866 | 0.446414 |\n",
            "+---------+----------+----------+----------+----------+\n",
            "| overall | 0.655857 | 0.474844 | 0.550862 | 0.474844 |\n",
            "+---------+----------+----------+----------+----------+\n",
            "[2022-06-19 22:16:42,577 - trainer - INFO] - Train Epoch:[23/100] Step:[10/166] Total Loss: 45.714848 GL_Loss: 0.621179 CRF_Loss: 45.093670\n",
            "[2022-06-19 22:17:06,565 - trainer - INFO] - Train Epoch:[23/100] Step:[20/166] Total Loss: 43.240395 GL_Loss: 0.763912 CRF_Loss: 42.476482\n",
            "[2022-06-19 22:17:29,618 - trainer - INFO] - Train Epoch:[23/100] Step:[30/166] Total Loss: 60.884418 GL_Loss: 0.546443 CRF_Loss: 60.337975\n",
            "[2022-06-19 22:17:53,282 - trainer - INFO] - Train Epoch:[23/100] Step:[40/166] Total Loss: 39.259617 GL_Loss: 0.734592 CRF_Loss: 38.525024\n",
            "[2022-06-19 22:18:17,962 - trainer - INFO] - Train Epoch:[23/100] Step:[50/166] Total Loss: 30.404556 GL_Loss: 0.450129 CRF_Loss: 29.954428\n",
            "Corrupt JPEG data: bad Huffman code\n",
            "[2022-06-19 22:20:03,898 - trainer - INFO] - [Step Validation] Epoch:[23/100] Step:[50/166]  \n",
            "+---------+----------+----------+----------+----------+\n",
            "| name    |      mEP |      mER |      mEF |      mEA |\n",
            "+=========+==========+==========+==========+==========+\n",
            "| address | 0.423284 | 0.358987 | 0.388493 | 0.358987 |\n",
            "+---------+----------+----------+----------+----------+\n",
            "| date    | 0.869841 | 0.913333 | 0.891057 | 0.913333 |\n",
            "+---------+----------+----------+----------+----------+\n",
            "| company | 0.582278 | 0.642458 | 0.61089  | 0.642458 |\n",
            "+---------+----------+----------+----------+----------+\n",
            "| total   | 0.509603 | 0.641418 | 0.567963 | 0.641418 |\n",
            "+---------+----------+----------+----------+----------+\n",
            "| overall | 0.535664 | 0.546957 | 0.541252 | 0.546957 |\n",
            "+---------+----------+----------+----------+----------+\n",
            "[2022-06-19 22:20:26,892 - trainer - INFO] - Train Epoch:[23/100] Step:[60/166] Total Loss: 106.243011 GL_Loss: 0.290131 CRF_Loss: 105.952881\n",
            "[2022-06-19 22:20:50,685 - trainer - INFO] - Train Epoch:[23/100] Step:[70/166] Total Loss: 35.415581 GL_Loss: 0.484918 CRF_Loss: 34.930664\n",
            "[2022-06-19 22:21:14,889 - trainer - INFO] - Train Epoch:[23/100] Step:[80/166] Total Loss: 47.114403 GL_Loss: 0.562236 CRF_Loss: 46.552166\n",
            "[2022-06-19 22:21:37,627 - trainer - INFO] - Train Epoch:[23/100] Step:[90/166] Total Loss: 38.603882 GL_Loss: 1.110309 CRF_Loss: 37.493572\n",
            "[2022-06-19 22:22:01,811 - trainer - INFO] - Train Epoch:[23/100] Step:[100/166] Total Loss: 22.413452 GL_Loss: 0.951944 CRF_Loss: 21.461508\n",
            "Corrupt JPEG data: bad Huffman code\n",
            "[2022-06-19 22:23:47,977 - trainer - INFO] - [Step Validation] Epoch:[23/100] Step:[100/166]  \n",
            "+---------+----------+----------+----------+----------+\n",
            "| name    |      mEP |      mER |      mEF |      mEA |\n",
            "+=========+==========+==========+==========+==========+\n",
            "| address | 0.626831 | 0.411646 | 0.496944 | 0.411646 |\n",
            "+---------+----------+----------+----------+----------+\n",
            "| date    | 0.834835 | 0.926667 | 0.878357 | 0.926667 |\n",
            "+---------+----------+----------+----------+----------+\n",
            "| company | 0.649077 | 0.687151 | 0.667571 | 0.687151 |\n",
            "+---------+----------+----------+----------+----------+\n",
            "| total   | 0.579685 | 0.533441 | 0.555602 | 0.533441 |\n",
            "+---------+----------+----------+----------+----------+\n",
            "| overall | 0.653559 | 0.54552  | 0.594672 | 0.54552  |\n",
            "+---------+----------+----------+----------+----------+\n",
            "[2022-06-19 22:24:10,143 - trainer - INFO] - Train Epoch:[23/100] Step:[110/166] Total Loss: 81.812126 GL_Loss: 0.876987 CRF_Loss: 80.935143\n",
            "[2022-06-19 22:24:34,508 - trainer - INFO] - Train Epoch:[23/100] Step:[120/166] Total Loss: 73.046944 GL_Loss: 1.409897 CRF_Loss: 71.637047\n",
            "Corrupt JPEG data: bad Huffman code\n",
            "[2022-06-19 22:24:58,401 - trainer - INFO] - Train Epoch:[23/100] Step:[130/166] Total Loss: 41.266949 GL_Loss: 1.450701 CRF_Loss: 39.816246\n",
            "[2022-06-19 22:25:21,109 - trainer - INFO] - Train Epoch:[23/100] Step:[140/166] Total Loss: 20.648930 GL_Loss: 1.846357 CRF_Loss: 18.802572\n",
            "[2022-06-19 22:25:44,232 - trainer - INFO] - Train Epoch:[23/100] Step:[150/166] Total Loss: 22.237190 GL_Loss: 1.427783 CRF_Loss: 20.809408\n",
            "Corrupt JPEG data: bad Huffman code\n",
            "[2022-06-19 22:27:31,933 - trainer - INFO] - [Step Validation] Epoch:[23/100] Step:[150/166]  \n",
            "+---------+----------+----------+----------+----------+\n",
            "| name    |      mEP |      mER |      mEF |      mEA |\n",
            "+=========+==========+==========+==========+==========+\n",
            "| address | 0.592796 | 0.383291 | 0.46556  | 0.383291 |\n",
            "+---------+----------+----------+----------+----------+\n",
            "| date    | 0.862992 | 0.913333 | 0.887449 | 0.913333 |\n",
            "+---------+----------+----------+----------+----------+\n",
            "| company | 0.632546 | 0.673184 | 0.652233 | 0.673184 |\n",
            "+---------+----------+----------+----------+----------+\n",
            "| total   | 0.593645 | 0.572119 | 0.582684 | 0.572119 |\n",
            "+---------+----------+----------+----------+----------+\n",
            "| overall | 0.646604 | 0.540489 | 0.588803 | 0.540489 |\n",
            "+---------+----------+----------+----------+----------+\n",
            "[2022-06-19 22:27:54,481 - trainer - INFO] - Train Epoch:[23/100] Step:[160/166] Total Loss: 26.100870 GL_Loss: 1.232951 CRF_Loss: 24.867920\n",
            "Corrupt JPEG data: bad Huffman code\n",
            "[2022-06-19 22:29:55,427 - trainer - INFO] - [Epoch Validation] Epoch:[23/100] Total Loss: 73.218502 GL_Loss: 0.009671 CRF_Loss: 72.251425 \n",
            "+---------+----------+----------+----------+----------+\n",
            "| name    |      mEP |      mER |      mEF |      mEA |\n",
            "+=========+==========+==========+==========+==========+\n",
            "| address | 0.560153 | 0.370127 | 0.445732 | 0.370127 |\n",
            "+---------+----------+----------+----------+----------+\n",
            "| date    | 0.652233 | 0.803333 | 0.71994  | 0.803333 |\n",
            "+---------+----------+----------+----------+----------+\n",
            "| company | 0.650794 | 0.687151 | 0.668478 | 0.687151 |\n",
            "+---------+----------+----------+----------+----------+\n",
            "| total   | 0.502135 | 0.663175 | 0.571528 | 0.663175 |\n",
            "+---------+----------+----------+----------+----------+\n",
            "| overall | 0.561931 | 0.546718 | 0.55422  | 0.546718 |\n",
            "+---------+----------+----------+----------+----------+\n",
            "[2022-06-19 22:30:23,444 - trainer - INFO] - Train Epoch:[24/100] Step:[10/166] Total Loss: 143.977203 GL_Loss: 0.621891 CRF_Loss: 143.355316\n",
            "[2022-06-19 22:30:47,647 - trainer - INFO] - Train Epoch:[24/100] Step:[20/166] Total Loss: 34.391098 GL_Loss: 0.818748 CRF_Loss: 33.572350\n",
            "Corrupt JPEG data: bad Huffman code\n",
            "[2022-06-19 22:31:11,424 - trainer - INFO] - Train Epoch:[24/100] Step:[30/166] Total Loss: 50.959873 GL_Loss: 0.668206 CRF_Loss: 50.291668\n",
            "[2022-06-19 22:31:34,769 - trainer - INFO] - Train Epoch:[24/100] Step:[40/166] Total Loss: 15.980648 GL_Loss: 1.007015 CRF_Loss: 14.973633\n",
            "[2022-06-19 22:31:58,448 - trainer - INFO] - Train Epoch:[24/100] Step:[50/166] Total Loss: 129.695557 GL_Loss: 1.177154 CRF_Loss: 128.518402\n",
            "Corrupt JPEG data: bad Huffman code\n",
            "[2022-06-19 22:33:44,191 - trainer - INFO] - [Step Validation] Epoch:[24/100] Step:[50/166]  \n",
            "+---------+----------+----------+----------+----------+\n",
            "| name    |      mEP |      mER |      mEF |      mEA |\n",
            "+=========+==========+==========+==========+==========+\n",
            "| address | 0.665179 | 0.452658 | 0.538716 | 0.452658 |\n",
            "+---------+----------+----------+----------+----------+\n",
            "| date    | 0.855118 | 0.905    | 0.879352 | 0.905    |\n",
            "+---------+----------+----------+----------+----------+\n",
            "| company | 0.633333 | 0.689944 | 0.660428 | 0.689944 |\n",
            "+---------+----------+----------+----------+----------+\n",
            "| total   | 0.596268 | 0.566479 | 0.580992 | 0.566479 |\n",
            "+---------+----------+----------+----------+----------+\n",
            "| overall | 0.672773 | 0.571874 | 0.618234 | 0.571874 |\n",
            "+---------+----------+----------+----------+----------+\n",
            "[2022-06-19 22:33:48,077 - trainer - INFO] - Saving current best: model_best.pth ...\n",
            "[2022-06-19 22:34:11,985 - trainer - INFO] - Train Epoch:[24/100] Step:[60/166] Total Loss: 47.824020 GL_Loss: 0.672080 CRF_Loss: 47.151939\n",
            "[2022-06-19 22:34:35,264 - trainer - INFO] - Train Epoch:[24/100] Step:[70/166] Total Loss: 16.631094 GL_Loss: 0.568512 CRF_Loss: 16.062582\n",
            "[2022-06-19 22:34:59,114 - trainer - INFO] - Train Epoch:[24/100] Step:[80/166] Total Loss: 43.129219 GL_Loss: 0.310695 CRF_Loss: 42.818523\n",
            "[2022-06-19 22:35:21,903 - trainer - INFO] - Train Epoch:[24/100] Step:[90/166] Total Loss: 26.219790 GL_Loss: 0.525941 CRF_Loss: 25.693848\n",
            "[2022-06-19 22:35:44,911 - trainer - INFO] - Train Epoch:[24/100] Step:[100/166] Total Loss: 109.939095 GL_Loss: 0.522104 CRF_Loss: 109.416992\n",
            "Corrupt JPEG data: bad Huffman code\n"
          ]
        }
      ]
    },
    {
      "cell_type": "code",
      "source": [
        "from google.colab import drive\n",
        "drive.mount('/content/drive')"
      ],
      "metadata": {
        "id": "XyAFgwrRbj0_",
        "colab": {
          "base_uri": "https://localhost:8080/"
        },
        "outputId": "0aa75a59-dac3-4ea7-d777-cdf433979c2c"
      },
      "execution_count": null,
      "outputs": [
        {
          "output_type": "stream",
          "name": "stdout",
          "text": [
            "Mounted at /content/drive\n"
          ]
        }
      ]
    },
    {
      "cell_type": "markdown",
      "source": [
        "save as model or save the current progress into the drive as a checkpoint "
      ],
      "metadata": {
        "id": "9SUSuOnDITWo"
      }
    },
    {
      "cell_type": "code",
      "source": [
        "!cp -r '/content/PICK-pytorch/saved/models/PICK_Default/test_0619_220218' '/content/drive/MyDrive'"
      ],
      "metadata": {
        "id": "TqWUqhFzPvqQ"
      },
      "execution_count": null,
      "outputs": []
    },
    {
      "cell_type": "markdown",
      "source": [
        "make a file for the models version then load it from the drive"
      ],
      "metadata": {
        "id": "pgvSbg3pBfrm"
      }
    },
    {
      "cell_type": "code",
      "source": [
        "!mkdir /content/PICK-pytorch/saved/models/PICK_DEFAULT/v01\n",
        "!cp -r '/content/drive/MyDrive/test_0619_220218/model_best.pth' '/content/PICK-pytorch/saved/models/PICK_DEFAULT/v01'\n",
        "!cp -r '/content/drive/MyDrive/test_0619_220218/config.json' '/content/PICK-pytorch/saved/models/PICK_DEFAULT/v01'\n"
      ],
      "metadata": {
        "id": "8XXdHcgFHgOX"
      },
      "execution_count": null,
      "outputs": []
    },
    {
      "cell_type": "markdown",
      "source": [
        "Predict with the trained model"
      ],
      "metadata": {
        "id": "_fhf7us8IZSC"
      }
    },
    {
      "cell_type": "code",
      "source": [
        "##creating testing folders\n",
        "!mkdir /content/test_img /content/test_boxes_and_transcripts"
      ],
      "metadata": {
        "colab": {
          "base_uri": "https://localhost:8080/"
        },
        "id": "ijMIUhlWIYxq",
        "outputId": "ff053396-9674-4d23-be8c-26becde39c82"
      },
      "execution_count": null,
      "outputs": [
        {
          "output_type": "stream",
          "name": "stdout",
          "text": [
            "mkdir: cannot create directory ‘/content/test_img’: File exists\n",
            "mkdir: cannot create directory ‘/content/test_boxes_and_transcripts’: File exists\n"
          ]
        }
      ]
    },
    {
      "cell_type": "code",
      "source": [
        "## copy one file from test sample\n",
        "import os\n",
        "import shutil\n",
        "data_path = \"data/test_data_example/boxes_and_transcripts/\"\n",
        "image_path = \"data/test_data_example/images/\"\n",
        "\n",
        "out_img_path = \"/content/test_img/\"\n",
        "out_box_path = \"/content/test_boxes_and_transcripts/\"\n",
        "\n",
        "for file in os.listdir(data_path)[:10]:\n",
        "  shutil.copy(data_path+file,out_box_path)\n",
        "  shutil.copy(image_path+file.replace(\".tsv\",\".jpg\"),out_img_path)"
      ],
      "metadata": {
        "id": "Du-NPURbcf4c"
      },
      "execution_count": null,
      "outputs": []
    },
    {
      "cell_type": "code",
      "source": [
        "## change model_best.pth path\n",
        "!python test.py --checkpoint /content/PICK-pytorch/saved/models/PICK_DEFAULT/v01/model_best.pth \\\n",
        "                --boxes_transcripts {out_box_path} \\\n",
        "                --images_path {out_img_path} --output_folder /content/output/ \\\n",
        "                --gpu -1 --batch_size 2"
      ],
      "metadata": {
        "colab": {
          "base_uri": "https://localhost:8080/"
        },
        "id": "cYnGzXT9cgjf",
        "outputId": "4d3d6b2a-6f08-434d-9297-94005dfcaba6"
      },
      "execution_count": null,
      "outputs": [
        {
          "output_type": "stream",
          "name": "stdout",
          "text": [
            "Loading checkpoint: /content/PICK-pytorch/saved/models/PICK_DEFAULT/v01/model_best.pth \n",
            "with saved mEF 0.6182 ...\n",
            "5it [01:29, 17.84s/it]\n"
          ]
        }
      ]
    },
    {
      "cell_type": "markdown",
      "metadata": {
        "id": "LNYCia6E6wtU"
      },
      "source": [
        "predictions are in the output folder.\n",
        "\n",
        "looks like\n",
        "\n",
        "```\n",
        "company\tADVANCO COMPANY,co\n",
        "address\tNO 1&3\\, JALAN ANGSA DELIMA 12\n",
        "address\tWANGSA LINK\\, WANGSA MAJU\n",
        "address\t53300 KUALA LUMPUR\n",
        "date\t23/03/2018\n",
        "```\n",
        "\n",
        "\n",
        "\n"
      ]
    },
    {
      "cell_type": "code",
      "source": [
        "from numpy.ma.core import size\n",
        "import pandas as pd\n",
        "\n",
        "import cv2\n",
        "import matplotlib.pyplot as plt\n",
        "import matplotlib.image as mpimg\n",
        "import sys\n",
        "from PIL import Image, ImageDraw, ImageFont\n",
        "\n",
        "head=['a','b','c','d','e','f','g','h','text','label']\n",
        "path='/content/test_img/060.jpg'\n",
        "boxes=pd.read_csv('/content/test_boxes_and_transcripts/060.tsv',sep=',',header=None,names=head)\n",
        "boxes=boxes.reset_index(0)\n",
        "\n",
        "\n",
        "\n",
        "with Image.open(path) as im:\n",
        "  \n",
        "\n",
        "  # bounding box in ploygon format\n",
        "  font = ImageFont.truetype(\"/usr/share/fonts/truetype/liberation/LiberationSansNarrow-BoldItalic.ttf\", 20)\n",
        "  for i in range(len(boxes)):\n",
        "    draw = ImageDraw.Draw(im)\n",
        "    draw.polygon(boxes.iloc[i]['a':'h'], fill=None, outline='green', width=1)\n",
        "    x=boxes.iloc[i]['a']+5\n",
        "    y=boxes.iloc[i]['b']-20\n",
        "    draw.text((x,y),boxes.iloc[i]['text'], fill=(255, 0, 0),font=font)\n",
        "\n",
        "\n",
        "im.save(\"/content/output.png\")\n",
        "plt.imshow(im)\n",
        "\n",
        "contents=\"/content/output/012.txt\"\n",
        "print(boxes[['text','label']])\n"
      ],
      "metadata": {
        "colab": {
          "base_uri": "https://localhost:8080/",
          "height": 1000
        },
        "id": "0rr0FufBgZnu",
        "outputId": "7be0f9b2-6852-4e13-baf1-a710b7565abd"
      },
      "execution_count": null,
      "outputs": [
        {
          "output_type": "stream",
          "name": "stdout",
          "text": [
            "                                       text               label\n",
            "0                                    B.I.G.               other\n",
            "1                  BEN'S INDEPENDENT GROCER               other\n",
            "2          BENS INDEPENDENT GROCER SDN. BHD             company\n",
            "3                                (913144-A)               other\n",
            "4                                    LOT 6\\         JALAN BATAI\n",
            "5                              PLAZA BATAI\\   DAMANSARA HEIGHTS\n",
            "6                                    50490\\        KUALA LUMPUR\n",
            "7         T: 03-2093 7358 | F: 03-2093 7359               other\n",
            "8                 (GST REG NO 000243941376)               other\n",
            "9           TAX INVOICE : BAT02201803120255               other\n",
            "10                                 12/03/18                date\n",
            "11                       CASHIER : FATIN SY               other\n",
            "12                                 20:29:59               other\n",
            "13                       DOLE PINEAPPLE PCS               other\n",
            "14                            8809069300708               other\n",
            "15                                   7.90*3               other\n",
            "16                                  23.70 Z               other\n",
            "17              EVIAN MINERAL WATER 6X1.25L               other\n",
            "18                            3068320113784               other\n",
            "19                                  53.50*1               other\n",
            "20                                  53.50 S               other\n",
            "21                                   ITEM 2               other\n",
            "22                      TOTAL WITH GST @ 6%               other\n",
            "23                                    77.20               total\n",
            "24                                      QTY               other\n",
            "25                                 ROUNDING               other\n",
            "26                                     0.00               other\n",
            "27                             TOTAL SAVING               other\n",
            "28                                     0.00               other\n",
            "29                                    TOTAL               other\n",
            "30                                    77.20               total\n",
            "31                                   TENDER               other\n",
            "32                                     CASH               other\n",
            "33                                   100.00               other\n",
            "34                                   CHANGE               other\n",
            "35                                    22.80               other\n",
            "36                             GST ANALYSIS               other\n",
            "37                                    GOODS               other\n",
            "38                               TAX AMOUNT               other\n",
            "39                                   S = 6%               other\n",
            "40                                    50.47               other\n",
            "41                                     3.03               other\n",
            "42                                   Z = 0%               other\n",
            "43                                    23.70               other\n",
            "44                                     0.00               other\n",
            "45                               BIG.COM.MY               other\n",
            "46                 FACEBOOK.COM/THEBIGGROUP               other\n",
            "47         EXCHANGE & REFUND MAY BE ALLOWED               other\n",
            "48  WITHIN 3 DAYS WITH ORIGINAL TAX INVOICE               other\n",
            "49                               THANK YOU\\   PLEASE COME AGAIN\n",
            "50                        BAT02201803120255               other\n",
            "51                                        4               other\n"
          ]
        },
        {
          "output_type": "display_data",
          "data": {
            "text/plain": [
              "<Figure size 432x288 with 1 Axes>"
            ],
            "image/png": "[encoded data removed]"
          },
          "metadata": {
            "needs_background": "light"
          }
        }
      ]
    }
  ]
}